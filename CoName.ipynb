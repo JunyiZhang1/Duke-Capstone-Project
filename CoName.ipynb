{
 "cells": [
  {
   "cell_type": "code",
   "execution_count": 53,
   "id": "2f97c22d",
   "metadata": {},
   "outputs": [],
   "source": [
    "from newsapi import NewsApiClient\n",
    "import pandas as pd\n",
    "from pandas.io.json import json_normalize"
   ]
  },
  {
   "cell_type": "code",
   "execution_count": 109,
   "id": "e59eb4e5",
   "metadata": {},
   "outputs": [],
   "source": [
    "from retrying import retry\n",
    "import re"
   ]
  },
  {
   "cell_type": "code",
   "execution_count": 56,
   "id": "f2f02012",
   "metadata": {},
   "outputs": [],
   "source": [
    "CoName = pd.read_csv('100-high-risk-Co.csv')"
   ]
  },
  {
   "cell_type": "code",
   "execution_count": 58,
   "id": "f6b013b1",
   "metadata": {},
   "outputs": [],
   "source": [
    "Name1 = CoName.Name1"
   ]
  },
  {
   "cell_type": "code",
   "execution_count": 92,
   "id": "598715a9",
   "metadata": {},
   "outputs": [
    {
     "data": {
      "text/plain": [
       "0                                       Acer\n",
       "1                                    Alibaba\n",
       "2                                AstraZeneca\n",
       "3                                       Asus\n",
       "4                              Auchan-Retail\n",
       "                       ...                  \n",
       "95                                Allianz SE\n",
       "96                       Deutsche Telekom AG\n",
       "97    MERCK Kommanditgesellschaft auf Aktien\n",
       "98                  Bayer Aktiengesellschaft\n",
       "99                                 adidas AG\n",
       "Name: Name1, Length: 100, dtype: object"
      ]
     },
     "execution_count": 92,
     "metadata": {},
     "output_type": "execute_result"
    }
   ],
   "source": [
    "Name1"
   ]
  },
  {
   "cell_type": "code",
   "execution_count": 162,
   "id": "36890f17-38d1-414e-80ff-a0012d3d87b3",
   "metadata": {},
   "outputs": [],
   "source": [
    "list_name1 = list(Name1)"
   ]
  },
  {
   "cell_type": "code",
   "execution_count": 123,
   "id": "d5cfe8cd-838e-420d-a462-f0571964f489",
   "metadata": {},
   "outputs": [],
   "source": [
    "def remove_bad_substrings(s):\n",
    "    badSubstrings = [\"Ltd\",\"Limited\",\"Inc.\",\"Inc\",\"plc\",\"LTD\",\"PLC\",\"Aktiengesellschaft\",\"Company\",\"Co.\",\"Holdings\"]\n",
    "    for badSubstring in badSubstrings: s = s.replace(badSubstring, \"\")\n",
    "    return s"
   ]
  },
  {
   "cell_type": "code",
   "execution_count": 124,
   "id": "4a118116-6146-4823-9f29-1b4f8a941d38",
   "metadata": {},
   "outputs": [],
   "source": [
    "Name2 = [remove_bad_substrings(s) for s in Name1]"
   ]
  },
  {
   "cell_type": "code",
   "execution_count": 203,
   "id": "4c591ab4",
   "metadata": {},
   "outputs": [
    {
     "data": {
      "text/plain": [
       "['Acer',\n",
       " 'Alibaba',\n",
       " 'AstraZeneca',\n",
       " 'Asus',\n",
       " 'Auchan-Retail',\n",
       " 'Ball Corporation',\n",
       " 'Calfrac Well Services',\n",
       " 'Carrefour',\n",
       " 'Cersanit',\n",
       " 'Cloudflare',\n",
       " 'Credit Suisse',\n",
       " 'Decathlon',\n",
       " 'Didi',\n",
       " 'd?TERRA',\n",
       " 'Emirates Airlines',\n",
       " 'FM Global',\n",
       " 'Glencore',\n",
       " 'Greif',\n",
       " 'Gruma',\n",
       " 'ID Logistics',\n",
       " 'International Paper',\n",
       " 'IPG Photonics',\n",
       " 'Knauf',\n",
       " 'Koch Industries',\n",
       " 'Lenovo',\n",
       " 'Leroy Merlin',\n",
       " 'Liebrecht & Wood',\n",
       " 'Manitowoc',\n",
       " 'Metro',\n",
       " 'MOLGroup',\n",
       " 'MSI',\n",
       " 'Naspers',\n",
       " 'Polpharma',\n",
       " 'Raiffeisen Bank International',\n",
       " 'SC Johnson',\n",
       " 'Societe Generale',\n",
       " 'Tencent',\n",
       " 'Titan International',\n",
       " 'Turkish Airlines',\n",
       " 'Xiaomi',\n",
       " 'Young Living',\n",
       " 'Mondelez',\n",
       " 'Salvatore Ferragamo',\n",
       " 'Mars ',\n",
       " 'Kimberly-Clark',\n",
       " 'Coty',\n",
       " 'Hilton',\n",
       " 'Hyatt',\n",
       " 'Intercontinental Hotels Group',\n",
       " 'Marriott',\n",
       " 'DBS Group  ',\n",
       " 'Oversea-Chinese Banking Corporation ',\n",
       " 'United Overseas Bank ',\n",
       " 'Jardine Matheson  ',\n",
       " 'Singapore Telecommunications ',\n",
       " 'Wilmar International ',\n",
       " 'CapitaLand ',\n",
       " 'Singapore Airlines ',\n",
       " 'Apple ',\n",
       " 'Microsoft Corp',\n",
       " 'Amazon.Com ',\n",
       " 'Tesla ',\n",
       " 'Berkshire Hathaway  Class B',\n",
       " 'Facebook  Class A',\n",
       " 'Johnson & Johnson',\n",
       " 'JP Morgan Chase & Co',\n",
       " 'Walmart Stores ',\n",
       " 'Procter & Gamble',\n",
       " 'Ping An Insurance (Group)  of China, ',\n",
       " 'Industrial and Commercial Bank of China ',\n",
       " 'China Construction Bank Corporation',\n",
       " 'China Merchants Bank , ',\n",
       " 'Agricultural Bank of China ',\n",
       " 'China Mobile ',\n",
       " 'PetroChina  ',\n",
       " 'Bank of China ',\n",
       " 'HSBC  ',\n",
       " 'Samsung Electronics , ',\n",
       " 'LG ENERGY SOLUTION ',\n",
       " 'SK hynix, ',\n",
       " 'NAVER Corporation',\n",
       " 'Kakao Corp',\n",
       " 'Hyundai Motor ',\n",
       " 'Kia Motors Corporation',\n",
       " 'KB Financial Group ',\n",
       " 'POSCO',\n",
       " 'Celltrion ',\n",
       " 'Shinhan Financial Group , ',\n",
       " 'Netmarble Corporation',\n",
       " 'Reliance Industries  Sponsored GDR 144A',\n",
       " 'Linde ',\n",
       " 'SAP',\n",
       " 'Unilever ',\n",
       " 'Siemens ',\n",
       " 'Volkswagen AG',\n",
       " 'Allianz SE',\n",
       " 'Deutsche Telekom AG',\n",
       " 'MERCK Kommanditgesellschaft auf Aktien',\n",
       " 'Bayer ',\n",
       " 'adidas AG']"
      ]
     },
     "execution_count": 203,
     "metadata": {},
     "output_type": "execute_result"
    }
   ],
   "source": [
    "Name2"
   ]
  },
  {
   "cell_type": "code",
   "execution_count": 204,
   "id": "47bf02ff",
   "metadata": {},
   "outputs": [
    {
     "data": {
      "text/plain": [
       "list"
      ]
     },
     "execution_count": 204,
     "metadata": {},
     "output_type": "execute_result"
    }
   ],
   "source": [
    "type(Name2)"
   ]
  },
  {
   "cell_type": "code",
   "execution_count": 205,
   "id": "0af9efef-1a20-4eff-b809-cafb1bfd218e",
   "metadata": {},
   "outputs": [],
   "source": [
    "df_output = pd.DataFrame({'Name1':list_name1, 'Name2':Name2})"
   ]
  },
  {
   "cell_type": "code",
   "execution_count": 206,
   "id": "83bec29f-1780-4a40-8d29-ec2e7eaa5384",
   "metadata": {},
   "outputs": [
    {
     "data": {
      "text/html": [
       "<div>\n",
       "<style scoped>\n",
       "    .dataframe tbody tr th:only-of-type {\n",
       "        vertical-align: middle;\n",
       "    }\n",
       "\n",
       "    .dataframe tbody tr th {\n",
       "        vertical-align: top;\n",
       "    }\n",
       "\n",
       "    .dataframe thead th {\n",
       "        text-align: right;\n",
       "    }\n",
       "</style>\n",
       "<table border=\"1\" class=\"dataframe\">\n",
       "  <thead>\n",
       "    <tr style=\"text-align: right;\">\n",
       "      <th></th>\n",
       "      <th>Name1</th>\n",
       "      <th>Name2</th>\n",
       "    </tr>\n",
       "  </thead>\n",
       "  <tbody>\n",
       "    <tr>\n",
       "      <th>0</th>\n",
       "      <td>Acer</td>\n",
       "      <td>Acer</td>\n",
       "    </tr>\n",
       "    <tr>\n",
       "      <th>1</th>\n",
       "      <td>Alibaba</td>\n",
       "      <td>Alibaba</td>\n",
       "    </tr>\n",
       "    <tr>\n",
       "      <th>2</th>\n",
       "      <td>AstraZeneca</td>\n",
       "      <td>AstraZeneca</td>\n",
       "    </tr>\n",
       "    <tr>\n",
       "      <th>3</th>\n",
       "      <td>Asus</td>\n",
       "      <td>Asus</td>\n",
       "    </tr>\n",
       "    <tr>\n",
       "      <th>4</th>\n",
       "      <td>Auchan-Retail</td>\n",
       "      <td>Auchan-Retail</td>\n",
       "    </tr>\n",
       "    <tr>\n",
       "      <th>...</th>\n",
       "      <td>...</td>\n",
       "      <td>...</td>\n",
       "    </tr>\n",
       "    <tr>\n",
       "      <th>95</th>\n",
       "      <td>Allianz SE</td>\n",
       "      <td>Allianz SE</td>\n",
       "    </tr>\n",
       "    <tr>\n",
       "      <th>96</th>\n",
       "      <td>Deutsche Telekom AG</td>\n",
       "      <td>Deutsche Telekom AG</td>\n",
       "    </tr>\n",
       "    <tr>\n",
       "      <th>97</th>\n",
       "      <td>MERCK Kommanditgesellschaft auf Aktien</td>\n",
       "      <td>MERCK Kommanditgesellschaft auf Aktien</td>\n",
       "    </tr>\n",
       "    <tr>\n",
       "      <th>98</th>\n",
       "      <td>Bayer Aktiengesellschaft</td>\n",
       "      <td>Bayer</td>\n",
       "    </tr>\n",
       "    <tr>\n",
       "      <th>99</th>\n",
       "      <td>adidas AG</td>\n",
       "      <td>adidas AG</td>\n",
       "    </tr>\n",
       "  </tbody>\n",
       "</table>\n",
       "<p>100 rows × 2 columns</p>\n",
       "</div>"
      ],
      "text/plain": [
       "                                     Name1  \\\n",
       "0                                     Acer   \n",
       "1                                  Alibaba   \n",
       "2                              AstraZeneca   \n",
       "3                                     Asus   \n",
       "4                            Auchan-Retail   \n",
       "..                                     ...   \n",
       "95                              Allianz SE   \n",
       "96                     Deutsche Telekom AG   \n",
       "97  MERCK Kommanditgesellschaft auf Aktien   \n",
       "98                Bayer Aktiengesellschaft   \n",
       "99                               adidas AG   \n",
       "\n",
       "                                     Name2  \n",
       "0                                     Acer  \n",
       "1                                  Alibaba  \n",
       "2                              AstraZeneca  \n",
       "3                                     Asus  \n",
       "4                            Auchan-Retail  \n",
       "..                                     ...  \n",
       "95                              Allianz SE  \n",
       "96                     Deutsche Telekom AG  \n",
       "97  MERCK Kommanditgesellschaft auf Aktien  \n",
       "98                                  Bayer   \n",
       "99                               adidas AG  \n",
       "\n",
       "[100 rows x 2 columns]"
      ]
     },
     "execution_count": 206,
     "metadata": {},
     "output_type": "execute_result"
    }
   ],
   "source": [
    "df_output"
   ]
  },
  {
   "cell_type": "code",
   "execution_count": 207,
   "id": "60d91da2-8d6f-4936-94f8-309c5d5e6480",
   "metadata": {},
   "outputs": [],
   "source": [
    "def function(a,b):\n",
    "    if a == b:\n",
    "        return None\n",
    "    else:\n",
    "        return b"
   ]
  },
  {
   "cell_type": "code",
   "execution_count": 208,
   "id": "2f85753e-9a86-4668-8438-5a03915663ac",
   "metadata": {},
   "outputs": [],
   "source": [
    "df_output['Name2'] = df_output.apply(lambda x : function(x['Name1'],x['Name2']),axis=1)"
   ]
  },
  {
   "cell_type": "code",
   "execution_count": 209,
   "id": "3380b017-f38f-42d1-b0b5-3eb2a429f1d0",
   "metadata": {},
   "outputs": [
    {
     "data": {
      "text/html": [
       "<div>\n",
       "<style scoped>\n",
       "    .dataframe tbody tr th:only-of-type {\n",
       "        vertical-align: middle;\n",
       "    }\n",
       "\n",
       "    .dataframe tbody tr th {\n",
       "        vertical-align: top;\n",
       "    }\n",
       "\n",
       "    .dataframe thead th {\n",
       "        text-align: right;\n",
       "    }\n",
       "</style>\n",
       "<table border=\"1\" class=\"dataframe\">\n",
       "  <thead>\n",
       "    <tr style=\"text-align: right;\">\n",
       "      <th></th>\n",
       "      <th>Name1</th>\n",
       "      <th>Name2</th>\n",
       "    </tr>\n",
       "  </thead>\n",
       "  <tbody>\n",
       "    <tr>\n",
       "      <th>0</th>\n",
       "      <td>Acer</td>\n",
       "      <td>None</td>\n",
       "    </tr>\n",
       "    <tr>\n",
       "      <th>1</th>\n",
       "      <td>Alibaba</td>\n",
       "      <td>None</td>\n",
       "    </tr>\n",
       "    <tr>\n",
       "      <th>2</th>\n",
       "      <td>AstraZeneca</td>\n",
       "      <td>None</td>\n",
       "    </tr>\n",
       "    <tr>\n",
       "      <th>3</th>\n",
       "      <td>Asus</td>\n",
       "      <td>None</td>\n",
       "    </tr>\n",
       "    <tr>\n",
       "      <th>4</th>\n",
       "      <td>Auchan-Retail</td>\n",
       "      <td>None</td>\n",
       "    </tr>\n",
       "    <tr>\n",
       "      <th>...</th>\n",
       "      <td>...</td>\n",
       "      <td>...</td>\n",
       "    </tr>\n",
       "    <tr>\n",
       "      <th>95</th>\n",
       "      <td>Allianz SE</td>\n",
       "      <td>None</td>\n",
       "    </tr>\n",
       "    <tr>\n",
       "      <th>96</th>\n",
       "      <td>Deutsche Telekom AG</td>\n",
       "      <td>None</td>\n",
       "    </tr>\n",
       "    <tr>\n",
       "      <th>97</th>\n",
       "      <td>MERCK Kommanditgesellschaft auf Aktien</td>\n",
       "      <td>None</td>\n",
       "    </tr>\n",
       "    <tr>\n",
       "      <th>98</th>\n",
       "      <td>Bayer Aktiengesellschaft</td>\n",
       "      <td>Bayer</td>\n",
       "    </tr>\n",
       "    <tr>\n",
       "      <th>99</th>\n",
       "      <td>adidas AG</td>\n",
       "      <td>None</td>\n",
       "    </tr>\n",
       "  </tbody>\n",
       "</table>\n",
       "<p>100 rows × 2 columns</p>\n",
       "</div>"
      ],
      "text/plain": [
       "                                     Name1   Name2\n",
       "0                                     Acer    None\n",
       "1                                  Alibaba    None\n",
       "2                              AstraZeneca    None\n",
       "3                                     Asus    None\n",
       "4                            Auchan-Retail    None\n",
       "..                                     ...     ...\n",
       "95                              Allianz SE    None\n",
       "96                     Deutsche Telekom AG    None\n",
       "97  MERCK Kommanditgesellschaft auf Aktien    None\n",
       "98                Bayer Aktiengesellschaft  Bayer \n",
       "99                               adidas AG    None\n",
       "\n",
       "[100 rows x 2 columns]"
      ]
     },
     "execution_count": 209,
     "metadata": {},
     "output_type": "execute_result"
    }
   ],
   "source": [
    "df_output"
   ]
  },
  {
   "cell_type": "code",
   "execution_count": 210,
   "id": "7beb27ef-5f1c-41de-a961-6fbad3636eb9",
   "metadata": {},
   "outputs": [],
   "source": [
    "df_output.to_csv('CoName.csv')"
   ]
  },
  {
   "cell_type": "code",
   "execution_count": null,
   "id": "8d2427aa-2790-4da3-adfa-4a1a59540f0c",
   "metadata": {},
   "outputs": [],
   "source": []
  }
 ],
 "metadata": {
  "kernelspec": {
   "display_name": "Python 3 (ipykernel)",
   "language": "python",
   "name": "python3"
  },
  "language_info": {
   "codemirror_mode": {
    "name": "ipython",
    "version": 3
   },
   "file_extension": ".py",
   "mimetype": "text/x-python",
   "name": "python",
   "nbconvert_exporter": "python",
   "pygments_lexer": "ipython3",
   "version": "3.9.7"
  }
 },
 "nbformat": 4,
 "nbformat_minor": 5
}
