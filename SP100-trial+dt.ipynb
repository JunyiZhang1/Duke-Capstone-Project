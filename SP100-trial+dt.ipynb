{
 "cells": [
  {
   "cell_type": "code",
   "execution_count": 1,
   "id": "f430044d",
   "metadata": {},
   "outputs": [],
   "source": [
    "from newsapi import NewsApiClient\n",
    "import pandas as pd\n",
    "from pandas.io.json import json_normalize\n",
    "import datetime as dt"
   ]
  },
  {
   "cell_type": "code",
   "execution_count": 2,
   "id": "cf10b2d2",
   "metadata": {},
   "outputs": [],
   "source": [
    "from retrying import retry"
   ]
  },
  {
   "cell_type": "code",
   "execution_count": 73,
   "id": "b40452b2",
   "metadata": {},
   "outputs": [],
   "source": [
    "comps = pd.read_csv('100-high-risk-Co.csv')"
   ]
  },
  {
   "cell_type": "code",
   "execution_count": 74,
   "id": "b2aee87c",
   "metadata": {},
   "outputs": [
    {
     "data": {
      "text/html": [
       "<div>\n",
       "<style scoped>\n",
       "    .dataframe tbody tr th:only-of-type {\n",
       "        vertical-align: middle;\n",
       "    }\n",
       "\n",
       "    .dataframe tbody tr th {\n",
       "        vertical-align: top;\n",
       "    }\n",
       "\n",
       "    .dataframe thead th {\n",
       "        text-align: right;\n",
       "    }\n",
       "</style>\n",
       "<table border=\"1\" class=\"dataframe\">\n",
       "  <thead>\n",
       "    <tr style=\"text-align: right;\">\n",
       "      <th></th>\n",
       "      <th>Name1</th>\n",
       "      <th>Name2</th>\n",
       "    </tr>\n",
       "  </thead>\n",
       "  <tbody>\n",
       "    <tr>\n",
       "      <th>0</th>\n",
       "      <td>Acer</td>\n",
       "      <td>Acer</td>\n",
       "    </tr>\n",
       "    <tr>\n",
       "      <th>1</th>\n",
       "      <td>Alibaba</td>\n",
       "      <td>Alibaba</td>\n",
       "    </tr>\n",
       "    <tr>\n",
       "      <th>2</th>\n",
       "      <td>AstraZeneca</td>\n",
       "      <td>AstraZeneca</td>\n",
       "    </tr>\n",
       "    <tr>\n",
       "      <th>3</th>\n",
       "      <td>Asus</td>\n",
       "      <td>Asus</td>\n",
       "    </tr>\n",
       "    <tr>\n",
       "      <th>4</th>\n",
       "      <td>Auchan-Retail</td>\n",
       "      <td>Auchan-Retail</td>\n",
       "    </tr>\n",
       "  </tbody>\n",
       "</table>\n",
       "</div>"
      ],
      "text/plain": [
       "           Name1          Name2\n",
       "0           Acer           Acer\n",
       "1        Alibaba        Alibaba\n",
       "2    AstraZeneca    AstraZeneca\n",
       "3           Asus           Asus\n",
       "4  Auchan-Retail  Auchan-Retail"
      ]
     },
     "execution_count": 74,
     "metadata": {},
     "output_type": "execute_result"
    }
   ],
   "source": [
    "comps.head()"
   ]
  },
  {
   "cell_type": "code",
   "execution_count": 75,
   "id": "3b92b506",
   "metadata": {},
   "outputs": [],
   "source": [
    "SDN = pd.read_csv('SDN.csv', header = None, names = ['A', 'B', 'C', 'D', 'E', 'F', 'G', 'H', 'I', 'J', 'K', 'L'])"
   ]
  },
  {
   "cell_type": "code",
   "execution_count": 76,
   "id": "10b77655",
   "metadata": {},
   "outputs": [
    {
     "data": {
      "text/html": [
       "<div>\n",
       "<style scoped>\n",
       "    .dataframe tbody tr th:only-of-type {\n",
       "        vertical-align: middle;\n",
       "    }\n",
       "\n",
       "    .dataframe tbody tr th {\n",
       "        vertical-align: top;\n",
       "    }\n",
       "\n",
       "    .dataframe thead th {\n",
       "        text-align: right;\n",
       "    }\n",
       "</style>\n",
       "<table border=\"1\" class=\"dataframe\">\n",
       "  <thead>\n",
       "    <tr style=\"text-align: right;\">\n",
       "      <th></th>\n",
       "      <th>A</th>\n",
       "      <th>B</th>\n",
       "      <th>C</th>\n",
       "      <th>D</th>\n",
       "      <th>E</th>\n",
       "      <th>F</th>\n",
       "      <th>G</th>\n",
       "      <th>H</th>\n",
       "      <th>I</th>\n",
       "      <th>J</th>\n",
       "      <th>K</th>\n",
       "      <th>L</th>\n",
       "    </tr>\n",
       "  </thead>\n",
       "  <tbody>\n",
       "    <tr>\n",
       "      <th>0</th>\n",
       "      <td>36</td>\n",
       "      <td>AEROCARIBBEAN AIRLINES</td>\n",
       "      <td>-0-</td>\n",
       "      <td>CUBA</td>\n",
       "      <td>-0-</td>\n",
       "      <td>-0-</td>\n",
       "      <td>-0-</td>\n",
       "      <td>-0-</td>\n",
       "      <td>-0-</td>\n",
       "      <td>-0-</td>\n",
       "      <td>-0-</td>\n",
       "      <td>-0-</td>\n",
       "    </tr>\n",
       "    <tr>\n",
       "      <th>1</th>\n",
       "      <td>173</td>\n",
       "      <td>ANGLO-CARIBBEAN CO., LTD.</td>\n",
       "      <td>-0-</td>\n",
       "      <td>CUBA</td>\n",
       "      <td>-0-</td>\n",
       "      <td>-0-</td>\n",
       "      <td>-0-</td>\n",
       "      <td>-0-</td>\n",
       "      <td>-0-</td>\n",
       "      <td>-0-</td>\n",
       "      <td>-0-</td>\n",
       "      <td>-0-</td>\n",
       "    </tr>\n",
       "    <tr>\n",
       "      <th>2</th>\n",
       "      <td>306</td>\n",
       "      <td>BANCO NACIONAL DE CUBA</td>\n",
       "      <td>-0-</td>\n",
       "      <td>CUBA</td>\n",
       "      <td>-0-</td>\n",
       "      <td>-0-</td>\n",
       "      <td>-0-</td>\n",
       "      <td>-0-</td>\n",
       "      <td>-0-</td>\n",
       "      <td>-0-</td>\n",
       "      <td>-0-</td>\n",
       "      <td>a.k.a. 'BNC'.</td>\n",
       "    </tr>\n",
       "    <tr>\n",
       "      <th>3</th>\n",
       "      <td>424</td>\n",
       "      <td>BOUTIQUE LA MAISON</td>\n",
       "      <td>-0-</td>\n",
       "      <td>CUBA</td>\n",
       "      <td>-0-</td>\n",
       "      <td>-0-</td>\n",
       "      <td>-0-</td>\n",
       "      <td>-0-</td>\n",
       "      <td>-0-</td>\n",
       "      <td>-0-</td>\n",
       "      <td>-0-</td>\n",
       "      <td>-0-</td>\n",
       "    </tr>\n",
       "    <tr>\n",
       "      <th>4</th>\n",
       "      <td>475</td>\n",
       "      <td>CASA DE CUBA</td>\n",
       "      <td>-0-</td>\n",
       "      <td>CUBA</td>\n",
       "      <td>-0-</td>\n",
       "      <td>-0-</td>\n",
       "      <td>-0-</td>\n",
       "      <td>-0-</td>\n",
       "      <td>-0-</td>\n",
       "      <td>-0-</td>\n",
       "      <td>-0-</td>\n",
       "      <td>-0-</td>\n",
       "    </tr>\n",
       "  </tbody>\n",
       "</table>\n",
       "</div>"
      ],
      "text/plain": [
       "     A                          B     C     D     E     F     G     H     I  \\\n",
       "0   36     AEROCARIBBEAN AIRLINES  -0-   CUBA  -0-   -0-   -0-   -0-   -0-    \n",
       "1  173  ANGLO-CARIBBEAN CO., LTD.  -0-   CUBA  -0-   -0-   -0-   -0-   -0-    \n",
       "2  306     BANCO NACIONAL DE CUBA  -0-   CUBA  -0-   -0-   -0-   -0-   -0-    \n",
       "3  424         BOUTIQUE LA MAISON  -0-   CUBA  -0-   -0-   -0-   -0-   -0-    \n",
       "4  475               CASA DE CUBA  -0-   CUBA  -0-   -0-   -0-   -0-   -0-    \n",
       "\n",
       "      J     K              L  \n",
       "0  -0-   -0-            -0-   \n",
       "1  -0-   -0-            -0-   \n",
       "2  -0-   -0-   a.k.a. 'BNC'.  \n",
       "3  -0-   -0-            -0-   \n",
       "4  -0-   -0-            -0-   "
      ]
     },
     "execution_count": 76,
     "metadata": {},
     "output_type": "execute_result"
    }
   ],
   "source": [
    "SDN.head()"
   ]
  },
  {
   "cell_type": "code",
   "execution_count": 77,
   "id": "c66e229b",
   "metadata": {},
   "outputs": [
    {
     "data": {
      "text/html": [
       "<div>\n",
       "<style scoped>\n",
       "    .dataframe tbody tr th:only-of-type {\n",
       "        vertical-align: middle;\n",
       "    }\n",
       "\n",
       "    .dataframe tbody tr th {\n",
       "        vertical-align: top;\n",
       "    }\n",
       "\n",
       "    .dataframe thead th {\n",
       "        text-align: right;\n",
       "    }\n",
       "</style>\n",
       "<table border=\"1\" class=\"dataframe\">\n",
       "  <thead>\n",
       "    <tr style=\"text-align: right;\">\n",
       "      <th></th>\n",
       "      <th>index</th>\n",
       "      <th>name</th>\n",
       "      <th>program</th>\n",
       "    </tr>\n",
       "  </thead>\n",
       "  <tbody>\n",
       "    <tr>\n",
       "      <th>0</th>\n",
       "      <td>36</td>\n",
       "      <td>AEROCARIBBEAN AIRLINES</td>\n",
       "      <td>CUBA</td>\n",
       "    </tr>\n",
       "    <tr>\n",
       "      <th>1</th>\n",
       "      <td>173</td>\n",
       "      <td>ANGLO-CARIBBEAN CO., LTD.</td>\n",
       "      <td>CUBA</td>\n",
       "    </tr>\n",
       "    <tr>\n",
       "      <th>2</th>\n",
       "      <td>306</td>\n",
       "      <td>BANCO NACIONAL DE CUBA</td>\n",
       "      <td>CUBA</td>\n",
       "    </tr>\n",
       "    <tr>\n",
       "      <th>3</th>\n",
       "      <td>424</td>\n",
       "      <td>BOUTIQUE LA MAISON</td>\n",
       "      <td>CUBA</td>\n",
       "    </tr>\n",
       "    <tr>\n",
       "      <th>4</th>\n",
       "      <td>475</td>\n",
       "      <td>CASA DE CUBA</td>\n",
       "      <td>CUBA</td>\n",
       "    </tr>\n",
       "  </tbody>\n",
       "</table>\n",
       "</div>"
      ],
      "text/plain": [
       "  index                       name program\n",
       "0    36     AEROCARIBBEAN AIRLINES    CUBA\n",
       "1   173  ANGLO-CARIBBEAN CO., LTD.    CUBA\n",
       "2   306     BANCO NACIONAL DE CUBA    CUBA\n",
       "3   424         BOUTIQUE LA MAISON    CUBA\n",
       "4   475               CASA DE CUBA    CUBA"
      ]
     },
     "execution_count": 77,
     "metadata": {},
     "output_type": "execute_result"
    }
   ],
   "source": [
    "# only retain useful columns\n",
    "SDN = SDN[['A','B','D']]\n",
    "SDN.rename(columns = {'A':'index','B':'name','D':'program'},inplace = True)\n",
    "SDN.head()"
   ]
  },
  {
   "cell_type": "code",
   "execution_count": 8,
   "id": "7c276e0a",
   "metadata": {},
   "outputs": [],
   "source": [
    "# get unique country list\n",
    "programs = SDN.program.unique().tolist()"
   ]
  },
  {
   "cell_type": "code",
   "execution_count": 9,
   "id": "b272ecc3",
   "metadata": {
    "tags": []
   },
   "outputs": [
    {
     "data": {
      "text/plain": [
       "179"
      ]
     },
     "execution_count": 79,
     "metadata": {},
     "output_type": "execute_result"
    }
   ],
   "source": [
    "# SDNs can be grouped by 179 countries\n",
    "len(programs)"
   ]
  },
  {
   "cell_type": "code",
   "execution_count": 10,
   "id": "90b1ee92-5b4f-4ec1-bc3c-a24cc6a10e95",
   "metadata": {},
   "outputs": [
    {
     "data": {
      "text/plain": [
       "['CUBA',\n",
       " 'SDGT',\n",
       " 'SDGT] [SYRIA',\n",
       " 'IRAQ2',\n",
       " 'SDNT',\n",
       " 'IRAN] [SDGT] [IRGC] [IFSR',\n",
       " 'IRAN] [IRAN-EO13902',\n",
       " 'IRAN] [SDGT] [IFSR',\n",
       " 'FTO] [SDGT',\n",
       " 'FTO] [SDGT] [SYRIA',\n",
       " 'SDNTK] [FTO] [SDGT',\n",
       " 'SDNTK',\n",
       " 'SDNTK] [SDGT',\n",
       " 'SDNTK] [ILLICIT-DRUGS-EO',\n",
       " 'ZIMBABWE',\n",
       " 'BALKANS',\n",
       " 'DRCONGO',\n",
       " 'SYRIA] [IRAQ2',\n",
       " 'SYRIA',\n",
       " 'NPWMD] [DPRK2',\n",
       " 'NPWMD',\n",
       " 'NPWMD] [IFSR] [IRAN-CON-ARMS-EO',\n",
       " 'NPWMD] [IFSR',\n",
       " 'DARFUR',\n",
       " 'SDGT] [NS-PLC',\n",
       " 'BELARUS',\n",
       " 'FTO] [SDGT] [NPWMD] [IRGC] [IFSR] [IRAN-HR] [HRIT-IR] [ELECTION-EO13848',\n",
       " 'SDGT] [NPWMD] [IFSR] [IRAN-CON-ARMS-EO',\n",
       " 'SDGT] [IFSR',\n",
       " 'FTO] [SDGT] [SYRIA] [IRGC] [IFSR] [IRAN-HR] [ELECTION-EO13848',\n",
       " 'SDGT] [NPWMD] [IRGC] [IFSR',\n",
       " 'SDGT] [SYRIA] [NPWMD] [IRGC] [IFSR',\n",
       " 'IRAQ3',\n",
       " 'LEBANON',\n",
       " 'SYRIA] [LEBANON',\n",
       " 'SDGT] [IRAQ3] [IRGC',\n",
       " 'FTO] [SDGT] [SOMALIA',\n",
       " 'SYRIA] [HRIT-SY',\n",
       " 'SDGT] [CAR',\n",
       " 'SDGT] [IRAQ3',\n",
       " 'SDGT] [IRAQ3] [IRGC] [IFSR',\n",
       " 'NPWMD] [IFSR] [IRAN-TRA',\n",
       " 'VENEZUELA',\n",
       " 'IRAN] [SDGT] [IFSR] [IFCA',\n",
       " 'IRAN',\n",
       " 'SDNTK] [TCO] [ILLICIT-DRUGS-EO',\n",
       " 'FTO] [SDGT] [IRAQ3',\n",
       " 'IRAN] [NPWMD] [IFSR',\n",
       " 'SOMALIA',\n",
       " 'FTO] [SDGT] [NPWMD] [IRGC] [IFSR',\n",
       " 'SDGT] [NPWMD] [IRGC] [IFSR] [IRAN-HR] [IRAN-EO13876',\n",
       " 'SDGT] [NPWMD] [IRGC] [IFSR] [IRAN-HR',\n",
       " 'SDGT] [SYRIA] [IFSR] [IRAN-HR] [HRIT-IR',\n",
       " 'SDGT] [IRGC] [IFSR',\n",
       " 'DPRK',\n",
       " 'DPRK] [DPRK2',\n",
       " 'SYRIA] [IRAN-HR',\n",
       " 'IRAN-HR',\n",
       " 'SDGT] [IRGC] [IRAN-HR',\n",
       " 'IRAN] [SDGT] [NPWMD] [IRGC] [IFSR',\n",
       " 'SDGT] [NPWMD] [IRGC] [IFSR] [IRAN-EO13876',\n",
       " 'LIBYA2',\n",
       " 'SDNTK] [TCO',\n",
       " 'SYRIA] [SYRIA-EO13894',\n",
       " 'FTO] [SDGT] [IRGC] [IFSR] [IRAN-HR',\n",
       " 'SYRIA] [IRAN-HR] [IRAN-TRA',\n",
       " 'SYRIA] [IRAN-HR] [HRIT-IR',\n",
       " 'SDGT] [NPWMD] [IRGC] [IFSR] [IFCA',\n",
       " 'TCO',\n",
       " 'SYRIA] [ISA',\n",
       " 'SDGT] [NPWMD] [IFSR',\n",
       " 'HRIT-IR',\n",
       " 'SDGT] [SYRIA] [IRGC] [IFSR',\n",
       " 'IRAN] [SDGT',\n",
       " 'SYRIA] [NPWMD] [IFSR',\n",
       " 'IRAN-TRA',\n",
       " 'NPWMD] [DPRK3',\n",
       " 'SDGT] [LEBANON',\n",
       " 'MAGNIT',\n",
       " 'IRAN-HR] [IRAN-EO13876',\n",
       " 'IRAN] [IRAN-EO13876',\n",
       " 'UKRAINE-EO13660',\n",
       " 'UKRAINE-EO13661',\n",
       " 'SOUTH SUDAN',\n",
       " 'UKRAINE-EO13661] [RUSSIA-EO14024',\n",
       " 'UKRAINE-EO13661] [ELECTION-EO13848',\n",
       " 'FTO] [SDGT] [DRCONGO',\n",
       " 'CAR',\n",
       " 'UKRAINE-EO13662] [RUSSIA-EO14024',\n",
       " 'YEMEN',\n",
       " 'SYRIA] [FSE-SY',\n",
       " 'DPRK2',\n",
       " 'UKRAINE-EO13685',\n",
       " 'UKRAINE-EO13662] [VENEZUELA-EO13850',\n",
       " 'SYRIA] [UKRAINE-EO13662',\n",
       " 'SDGT] [HIFPAA',\n",
       " 'DPRK3',\n",
       " 'LIBYA3',\n",
       " 'UKRAINE-EO13685] [PEESA-EO14039',\n",
       " 'UKRAINE-EO13661] [CYBER2] [ELECTION-EO13848] [RUSSIA-EO14024',\n",
       " 'CYBER2',\n",
       " 'CYBER2] [CAATSA - RUSSIA',\n",
       " 'NPWMD] [CYBER2] [CAATSA - RUSSIA',\n",
       " 'BALKANS] [BALKANS-EO14033',\n",
       " 'SDGT] [LIBYA3',\n",
       " 'UKRAINE-EO13661] [CYBER2',\n",
       " 'UKRAINE-EO13660] [UKRAINE-EO13661',\n",
       " 'VENEZUELA] [IRAN-CON-ARMS-EO',\n",
       " 'DPRK4',\n",
       " 'DPRK2] [DPRK4',\n",
       " 'GLOMAG',\n",
       " 'MAGNIT] [GLOMAG',\n",
       " 'IRAN] [IRAN-TRA',\n",
       " 'SDGT] [IRGC] [IFSR] [HRIT-IR',\n",
       " 'CYBER2] [ELECTION-EO13848',\n",
       " 'CAATSA - RUSSIA',\n",
       " 'HRIT-IR] [CYBER2',\n",
       " 'UKRAINE-EO13662',\n",
       " 'UKRAINE-EO13661] [UKRAINE-EO13662',\n",
       " 'NPWMD] [IRGC] [IFSR',\n",
       " 'GLOMAG] [BURMA-EO14014',\n",
       " 'DPRK3] [DPRK4',\n",
       " 'SDGT] [IFSR] [IFCA] [IRAN-EO13871',\n",
       " 'IRAN] [SDGT] [IFSR] [IRAN-EO13876',\n",
       " 'IRAN] [SDGT] [NPWMD] [IFSR',\n",
       " 'IRAN] [NPWMD] [IFSR] [IFCA',\n",
       " 'SDGT] [SYRIA] [IFSR',\n",
       " 'IRAN] [IFCA',\n",
       " 'UKRAINE-EO13661] [UKRAINE-EO13685',\n",
       " 'IRAN] [IRAN-HR',\n",
       " 'IRAN] [IRAN-EO13871',\n",
       " 'NICARAGUA',\n",
       " 'NPWMD] [CAATSA - RUSSIA',\n",
       " 'VENEZUELA-EO13850',\n",
       " 'UKRAINE-EO13661] [CYBER2] [ELECTION-EO13848',\n",
       " 'SDGT] [IRGC] [IFSR] [IRAN-HR] [SYRIA-EO13894',\n",
       " 'SDGT] [IRGC] [IFSR] [IRAN-HR',\n",
       " 'HRIT-IR] [ELECTION-EO13848',\n",
       " 'VENEZUELA-EO13884',\n",
       " 'FTO] [IRGC',\n",
       " 'NICARAGUA] [NICARAGUA-NHRAA',\n",
       " 'IRAN-EO13876',\n",
       " 'IRAN-EO13846',\n",
       " 'ELECTION-EO13848',\n",
       " 'SYRIA] [UKRAINE-EO13685',\n",
       " 'MALI-EO13882',\n",
       " 'DPRK3] [DPRK-NKSPEA',\n",
       " 'SYRIA-EO13894',\n",
       " 'IRGC] [IRAN-HR] [IRAN-EO13876',\n",
       " 'SDGT] [GLOMAG',\n",
       " 'DPRK3] [CYBER2',\n",
       " 'IRAN-EO13871',\n",
       " 'IRAN-EO13871] [IRAN-EO13876',\n",
       " 'IFCA] [IRAN-EO13871',\n",
       " 'DPRK2] [DPRK3',\n",
       " 'IRGC] [IFSR] [IRAN-HR',\n",
       " 'CAATSA - IRAN',\n",
       " 'SYRIA] [SYRIA-CAESAR',\n",
       " 'IFCA',\n",
       " 'HK-EO13936',\n",
       " 'SDGT] [IFSR] [IRAN-EO13846',\n",
       " 'ILLICIT-DRUGS-EO',\n",
       " 'YEMEN] [GLOMAG',\n",
       " 'NPWMD] [RUSSIA-EO14024',\n",
       " 'CAATSA - RUSSIA] [PEESA',\n",
       " 'NPWMD] [UKRAINE-EO13661] [RUSSIA-EO14024',\n",
       " 'BURMA-EO14014',\n",
       " 'NPWMD] [CYBER2] [ELECTION-EO13848',\n",
       " 'UKRAINE-EO13660] [ELECTION-EO13848',\n",
       " 'RUSSIA-EO14024',\n",
       " 'NPWMD] [CYBER2] [CAATSA - RUSSIA] [RUSSIA-EO14024',\n",
       " 'NPWMD] [CYBER2] [CAATSA - RUSSIA] [ELECTION-EO13848',\n",
       " 'BELARUS-EO14038',\n",
       " 'PEESA-EO14039',\n",
       " 'ETHIOPIA-EO14046',\n",
       " 'IRGC] [IRAN-HR',\n",
       " 'BALKANS-EO14033',\n",
       " 'NPWMD] [CYBER2',\n",
       " nan]"
      ]
     },
     "execution_count": 80,
     "metadata": {},
     "output_type": "execute_result"
    }
   ],
   "source": [
    "programs"
   ]
  },
  {
   "cell_type": "code",
   "execution_count": 11,
   "id": "ccb71e97",
   "metadata": {},
   "outputs": [],
   "source": [
    "newsapi = NewsApiClient(api_key='cannot shown here due to confidentiality')"
   ]
  },
  {
   "cell_type": "code",
   "execution_count": 84,
   "id": "a47c2c6f",
   "metadata": {},
   "outputs": [],
   "source": [
    "comps_ls = comps['Name2']"
   ]
  },
  {
   "cell_type": "code",
   "execution_count": 87,
   "id": "e3452b0b",
   "metadata": {},
   "outputs": [],
   "source": [
    "# create list of companies in different sanctions program\n",
    "dft = pd.DataFrame(SDN.groupby('program')['name'].nunique())\n",
    "dft.to_csv('Aggregate_Program.csv')"
   ]
  },
  {
   "cell_type": "markdown",
   "id": "0711829b",
   "metadata": {},
   "source": [
    "we will only focus on entities in Russia - Ukraine program"
   ]
  },
  {
   "cell_type": "code",
   "execution_count": 88,
   "id": "628270da",
   "metadata": {},
   "outputs": [],
   "source": [
    "SDN_R_U = SDN[SDN.program.str.contains('RUSSIA', na=False)|SDN.program.str.contains('Ukraine', na=False)].iloc[:,1]"
   ]
  },
  {
   "cell_type": "code",
   "execution_count": 89,
   "id": "3802459b",
   "metadata": {},
   "outputs": [],
   "source": [
    "#classes\n",
    "class spco_news: \n",
    "    def __init__(self, name, news): \n",
    "        self.name = name \n",
    "        self.news = news"
   ]
  },
  {
   "cell_type": "code",
   "execution_count": 90,
   "id": "f3da2c91",
   "metadata": {},
   "outputs": [],
   "source": [
    "#functions\n",
    "def write_to_local(df,iter_num):\n",
    "    if iter_num == 0:\n",
    "        df.to_csv('news.csv', index=False)\n",
    "    else:\n",
    "        df.to_csv('news.csv', mode='a', index=False, header=False)\n",
    "    \n",
    "\n",
    "def fetch_news(comp, sdn):\n",
    "    key = str('\"'+ comp + '\"' + 'AND' + '\"' + sdn + '\"')\n",
    "    data = newsapi.get_everything(q= key,\n",
    "                                  language='en',\n",
    "                                  sort_by='relevancy',\n",
    "                                  page_size=100,\n",
    "                                  page=1)\n",
    "    if data['totalResults'] != 0:\n",
    "        news_articles = pd.DataFrame(data['articles'])\n",
    "        news_articles['pub_date'] = news_articles.apply(lambda x: dt.datetime.strptime(x['publishedAt'],\"%Y-%m-%dT%H:%M:%SZ\").date(), axis = 1)\n",
    "        news = news_articles.loc[:,['content','pub_date']]\n",
    "        news['SDN'] = sdn\n",
    "        return news\n",
    "    else:\n",
    "        return pd.DataFrame()\n",
    "    \n",
    "def frame_news(ls,comp):\n",
    "    df_output = pd.concat(ls,ignore_index = True)\n",
    "    df_output['comp'] = comp\n",
    "    return df_output\n",
    "        "
   ]
  },
  {
   "cell_type": "code",
   "execution_count": 91,
   "id": "9acb1cc2",
   "metadata": {},
   "outputs": [
    {
     "name": "stdout",
     "output_type": "stream",
     "text": [
      "Acer\n",
      "Alibaba\n"
     ]
    }
   ],
   "source": [
    "for num, comp in enumerate(comps_ls[:2]):\n",
    "    \n",
    "    news_list = list()\n",
    "    \n",
    "    for sdn in SDN_R_U:\n",
    "        news = fetch_news(comp, sdn)\n",
    "        if not news.empty:\n",
    "            news_list.append(news)\n",
    "    \n",
    "    print(comp)\n",
    "    if bool(news_list):\n",
    "        df = frame_news(news_list,comp)\n",
    "        write_to_local(df,num)"
   ]
  },
  {
   "cell_type": "code",
   "execution_count": 92,
   "id": "6e2c423e",
   "metadata": {},
   "outputs": [],
   "source": [
    "test = pd.read_csv('news.csv')"
   ]
  },
  {
   "cell_type": "code",
   "execution_count": 93,
   "id": "818986ee",
   "metadata": {},
   "outputs": [
    {
     "data": {
      "text/plain": [
       "(498, 4)"
      ]
     },
     "execution_count": 93,
     "metadata": {},
     "output_type": "execute_result"
    }
   ],
   "source": [
    "test.shape"
   ]
  },
  {
   "cell_type": "code",
   "execution_count": 94,
   "id": "d55f3b17",
   "metadata": {},
   "outputs": [
    {
     "data": {
      "text/html": [
       "<div>\n",
       "<style scoped>\n",
       "    .dataframe tbody tr th:only-of-type {\n",
       "        vertical-align: middle;\n",
       "    }\n",
       "\n",
       "    .dataframe tbody tr th {\n",
       "        vertical-align: top;\n",
       "    }\n",
       "\n",
       "    .dataframe thead th {\n",
       "        text-align: right;\n",
       "    }\n",
       "</style>\n",
       "<table border=\"1\" class=\"dataframe\">\n",
       "  <thead>\n",
       "    <tr style=\"text-align: right;\">\n",
       "      <th></th>\n",
       "      <th>content</th>\n",
       "      <th>pub_date</th>\n",
       "      <th>SDN</th>\n",
       "      <th>comp</th>\n",
       "    </tr>\n",
       "  </thead>\n",
       "  <tbody>\n",
       "    <tr>\n",
       "      <th>0</th>\n",
       "      <td>The organised criminal association (REvil) has...</td>\n",
       "      <td>2022-01-20</td>\n",
       "      <td>FEDERAL SECURITY SERVICE</td>\n",
       "      <td>Acer</td>\n",
       "    </tr>\n",
       "    <tr>\n",
       "      <th>1</th>\n",
       "      <td>According to Russia’s top agency FSB (Federal ...</td>\n",
       "      <td>2022-01-15</td>\n",
       "      <td>FEDERAL SECURITY SERVICE</td>\n",
       "      <td>Acer</td>\n",
       "    </tr>\n",
       "    <tr>\n",
       "      <th>2</th>\n",
       "      <td>In a surprising twist, the Russian government ...</td>\n",
       "      <td>2022-01-14</td>\n",
       "      <td>FEDERAL SECURITY SERVICE</td>\n",
       "      <td>Acer</td>\n",
       "    </tr>\n",
       "    <tr>\n",
       "      <th>3</th>\n",
       "      <td>(Bloomberg) -- Russia detained several members...</td>\n",
       "      <td>2022-01-14</td>\n",
       "      <td>FEDERAL SECURITY SERVICE</td>\n",
       "      <td>Acer</td>\n",
       "    </tr>\n",
       "    <tr>\n",
       "      <th>4</th>\n",
       "      <td>Russia detained several members of the notorio...</td>\n",
       "      <td>2022-01-14</td>\n",
       "      <td>FEDERAL SECURITY SERVICE</td>\n",
       "      <td>Acer</td>\n",
       "    </tr>\n",
       "  </tbody>\n",
       "</table>\n",
       "</div>"
      ],
      "text/plain": [
       "                                             content    pub_date  \\\n",
       "0  The organised criminal association (REvil) has...  2022-01-20   \n",
       "1  According to Russia’s top agency FSB (Federal ...  2022-01-15   \n",
       "2  In a surprising twist, the Russian government ...  2022-01-14   \n",
       "3  (Bloomberg) -- Russia detained several members...  2022-01-14   \n",
       "4  Russia detained several members of the notorio...  2022-01-14   \n",
       "\n",
       "                        SDN  comp  \n",
       "0  FEDERAL SECURITY SERVICE  Acer  \n",
       "1  FEDERAL SECURITY SERVICE  Acer  \n",
       "2  FEDERAL SECURITY SERVICE  Acer  \n",
       "3  FEDERAL SECURITY SERVICE  Acer  \n",
       "4  FEDERAL SECURITY SERVICE  Acer  "
      ]
     },
     "execution_count": 94,
     "metadata": {},
     "output_type": "execute_result"
    }
   ],
   "source": [
    "test.head(5)"
   ]
  },
  {
   "cell_type": "code",
   "execution_count": 95,
   "id": "e7865e30-4737-4883-9c78-5e00fd8cff10",
   "metadata": {},
   "outputs": [],
   "source": [
    "def datediff(d1, d2):\n",
    "    d1 = dt.datetime.strptime(d1, \"%Y-%m-%d\")\n",
    "    d2 = dt.datetime.strptime(d2, \"%Y-%m-%d\")\n",
    "    return abs((d2 - d1).days)"
   ]
  },
  {
   "cell_type": "code",
   "execution_count": 96,
   "id": "84c89be2-067c-43b9-9208-4d0d8708ba63",
   "metadata": {},
   "outputs": [
    {
     "data": {
      "text/plain": [
       "1"
      ]
     },
     "execution_count": 96,
     "metadata": {},
     "output_type": "execute_result"
    }
   ],
   "source": [
    "datediff(test['pub_date'][2],test['pub_date'][1])"
   ]
  },
  {
   "cell_type": "code",
   "execution_count": 97,
   "id": "97c10bd5-42bd-4c5b-b92c-49e723a1de92",
   "metadata": {},
   "outputs": [
    {
     "data": {
      "text/plain": [
       "'2022-03-31'"
      ]
     },
     "execution_count": 97,
     "metadata": {},
     "output_type": "execute_result"
    }
   ],
   "source": [
    "date_p = dt.datetime.now().date()\n",
    "str_p = str(date_p)\n",
    "str_p"
   ]
  },
  {
   "cell_type": "code",
   "execution_count": 98,
   "id": "be4e5cce-8e42-4c71-80b6-3beda1919fef",
   "metadata": {},
   "outputs": [],
   "source": [
    "def function(d1, d2):\n",
    "    if datediff(d1, d2) <= 30:\n",
    "        return 'Within 30 days'\n",
    "    elif 30 < datediff(d1, d2) <= 90:\n",
    "        return '31-90 days'\n",
    "    elif 90 < datediff(d1, d2) <= 180:\n",
    "        return '91-180 days'\n",
    "    elif 180 < datediff(d1, d2) <= 365:\n",
    "        return '181-365 days'\n",
    "    else:\n",
    "        return 'Over 1 year'"
   ]
  },
  {
   "cell_type": "code",
   "execution_count": 99,
   "id": "b8fb3e72-a2a2-429f-8c4c-72160d1b8451",
   "metadata": {},
   "outputs": [],
   "source": [
    "test['Status'] = test.apply(lambda x : function(str_p,x['pub_date']),axis=1)"
   ]
  },
  {
   "cell_type": "code",
   "execution_count": 100,
   "id": "c6734810-3a0a-4b5e-a847-25ec4957bf47",
   "metadata": {},
   "outputs": [
    {
     "data": {
      "text/html": [
       "<div>\n",
       "<style scoped>\n",
       "    .dataframe tbody tr th:only-of-type {\n",
       "        vertical-align: middle;\n",
       "    }\n",
       "\n",
       "    .dataframe tbody tr th {\n",
       "        vertical-align: top;\n",
       "    }\n",
       "\n",
       "    .dataframe thead th {\n",
       "        text-align: right;\n",
       "    }\n",
       "</style>\n",
       "<table border=\"1\" class=\"dataframe\">\n",
       "  <thead>\n",
       "    <tr style=\"text-align: right;\">\n",
       "      <th></th>\n",
       "      <th>content</th>\n",
       "      <th>pub_date</th>\n",
       "      <th>SDN</th>\n",
       "      <th>comp</th>\n",
       "      <th>Status</th>\n",
       "    </tr>\n",
       "  </thead>\n",
       "  <tbody>\n",
       "    <tr>\n",
       "      <th>0</th>\n",
       "      <td>The organised criminal association (REvil) has...</td>\n",
       "      <td>2022-01-20</td>\n",
       "      <td>FEDERAL SECURITY SERVICE</td>\n",
       "      <td>Acer</td>\n",
       "      <td>31-90 days</td>\n",
       "    </tr>\n",
       "    <tr>\n",
       "      <th>1</th>\n",
       "      <td>According to Russia’s top agency FSB (Federal ...</td>\n",
       "      <td>2022-01-15</td>\n",
       "      <td>FEDERAL SECURITY SERVICE</td>\n",
       "      <td>Acer</td>\n",
       "      <td>31-90 days</td>\n",
       "    </tr>\n",
       "    <tr>\n",
       "      <th>2</th>\n",
       "      <td>In a surprising twist, the Russian government ...</td>\n",
       "      <td>2022-01-14</td>\n",
       "      <td>FEDERAL SECURITY SERVICE</td>\n",
       "      <td>Acer</td>\n",
       "      <td>31-90 days</td>\n",
       "    </tr>\n",
       "    <tr>\n",
       "      <th>3</th>\n",
       "      <td>(Bloomberg) -- Russia detained several members...</td>\n",
       "      <td>2022-01-14</td>\n",
       "      <td>FEDERAL SECURITY SERVICE</td>\n",
       "      <td>Acer</td>\n",
       "      <td>31-90 days</td>\n",
       "    </tr>\n",
       "    <tr>\n",
       "      <th>4</th>\n",
       "      <td>Russia detained several members of the notorio...</td>\n",
       "      <td>2022-01-14</td>\n",
       "      <td>FEDERAL SECURITY SERVICE</td>\n",
       "      <td>Acer</td>\n",
       "      <td>31-90 days</td>\n",
       "    </tr>\n",
       "  </tbody>\n",
       "</table>\n",
       "</div>"
      ],
      "text/plain": [
       "                                             content    pub_date  \\\n",
       "0  The organised criminal association (REvil) has...  2022-01-20   \n",
       "1  According to Russia’s top agency FSB (Federal ...  2022-01-15   \n",
       "2  In a surprising twist, the Russian government ...  2022-01-14   \n",
       "3  (Bloomberg) -- Russia detained several members...  2022-01-14   \n",
       "4  Russia detained several members of the notorio...  2022-01-14   \n",
       "\n",
       "                        SDN  comp      Status  \n",
       "0  FEDERAL SECURITY SERVICE  Acer  31-90 days  \n",
       "1  FEDERAL SECURITY SERVICE  Acer  31-90 days  \n",
       "2  FEDERAL SECURITY SERVICE  Acer  31-90 days  \n",
       "3  FEDERAL SECURITY SERVICE  Acer  31-90 days  \n",
       "4  FEDERAL SECURITY SERVICE  Acer  31-90 days  "
      ]
     },
     "execution_count": 100,
     "metadata": {},
     "output_type": "execute_result"
    }
   ],
   "source": [
    "test.head(5)"
   ]
  },
  {
   "cell_type": "code",
   "execution_count": 19,
   "id": "6b3337c8",
   "metadata": {},
   "outputs": [],
   "source": [
    "test.to_csv('Data_collection_dt.csv')"
   ]
  },
  {
   "cell_type": "code",
   "execution_count": null,
   "id": "fdf1d14c",
   "metadata": {},
   "outputs": [],
   "source": []
  },
  {
   "cell_type": "code",
   "execution_count": null,
   "id": "dd99c07a",
   "metadata": {},
   "outputs": [],
   "source": []
  }
 ],
 "metadata": {
  "kernelspec": {
   "display_name": "Python 3 (ipykernel)",
   "language": "python",
   "name": "python3"
  },
  "language_info": {
   "codemirror_mode": {
    "name": "ipython",
    "version": 3
   },
   "file_extension": ".py",
   "mimetype": "text/x-python",
   "name": "python",
   "nbconvert_exporter": "python",
   "pygments_lexer": "ipython3",
   "version": "3.9.7"
  }
 },
 "nbformat": 4,
 "nbformat_minor": 5
}
